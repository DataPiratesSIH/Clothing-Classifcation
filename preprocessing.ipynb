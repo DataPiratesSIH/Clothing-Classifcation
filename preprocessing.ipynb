{
 "cells": [
  {
   "cell_type": "code",
   "execution_count": 49,
   "metadata": {},
   "outputs": [],
   "source": [
    "import pandas as pd\n",
    "import os\n",
    "import shutil"
   ]
  },
  {
   "cell_type": "code",
   "execution_count": 12,
   "metadata": {},
   "outputs": [],
   "source": [
    "train = pd.read_csv('train.csv')"
   ]
  },
  {
   "cell_type": "code",
   "execution_count": 13,
   "metadata": {},
   "outputs": [
    {
     "data": {
      "text/html": [
       "<div>\n",
       "<style scoped>\n",
       "    .dataframe tbody tr th:only-of-type {\n",
       "        vertical-align: middle;\n",
       "    }\n",
       "\n",
       "    .dataframe tbody tr th {\n",
       "        vertical-align: top;\n",
       "    }\n",
       "\n",
       "    .dataframe thead th {\n",
       "        text-align: right;\n",
       "    }\n",
       "</style>\n",
       "<table border=\"1\" class=\"dataframe\">\n",
       "  <thead>\n",
       "    <tr style=\"text-align: right;\">\n",
       "      <th></th>\n",
       "      <th>image</th>\n",
       "      <th>source</th>\n",
       "      <th>category</th>\n",
       "      <th>id</th>\n",
       "    </tr>\n",
       "  </thead>\n",
       "  <tbody>\n",
       "    <tr>\n",
       "      <th>0</th>\n",
       "      <td>000001.jpg</td>\n",
       "      <td>user</td>\n",
       "      <td>short sleeve top, trousers</td>\n",
       "      <td>1, 8</td>\n",
       "    </tr>\n",
       "    <tr>\n",
       "      <th>1</th>\n",
       "      <td>000002.jpg</td>\n",
       "      <td>shop</td>\n",
       "      <td>short sleeve top, short sleeve top</td>\n",
       "      <td>1, 1</td>\n",
       "    </tr>\n",
       "    <tr>\n",
       "      <th>2</th>\n",
       "      <td>000003.jpg</td>\n",
       "      <td>user</td>\n",
       "      <td>long sleeve dress</td>\n",
       "      <td>11</td>\n",
       "    </tr>\n",
       "    <tr>\n",
       "      <th>3</th>\n",
       "      <td>000004.jpg</td>\n",
       "      <td>user</td>\n",
       "      <td>long sleeve dress</td>\n",
       "      <td>11</td>\n",
       "    </tr>\n",
       "    <tr>\n",
       "      <th>4</th>\n",
       "      <td>000005.jpg</td>\n",
       "      <td>user</td>\n",
       "      <td>long sleeve dress</td>\n",
       "      <td>11</td>\n",
       "    </tr>\n",
       "  </tbody>\n",
       "</table>\n",
       "</div>"
      ],
      "text/plain": [
       "        image source                            category    id\n",
       "0  000001.jpg   user          short sleeve top, trousers  1, 8\n",
       "1  000002.jpg   shop  short sleeve top, short sleeve top  1, 1\n",
       "2  000003.jpg   user                   long sleeve dress    11\n",
       "3  000004.jpg   user                   long sleeve dress    11\n",
       "4  000005.jpg   user                   long sleeve dress    11"
      ]
     },
     "execution_count": 13,
     "metadata": {},
     "output_type": "execute_result"
    }
   ],
   "source": [
    "train.head()"
   ]
  },
  {
   "cell_type": "code",
   "execution_count": 15,
   "metadata": {},
   "outputs": [
    {
     "data": {
      "text/html": [
       "<div>\n",
       "<style scoped>\n",
       "    .dataframe tbody tr th:only-of-type {\n",
       "        vertical-align: middle;\n",
       "    }\n",
       "\n",
       "    .dataframe tbody tr th {\n",
       "        vertical-align: top;\n",
       "    }\n",
       "\n",
       "    .dataframe thead th {\n",
       "        text-align: right;\n",
       "    }\n",
       "</style>\n",
       "<table border=\"1\" class=\"dataframe\">\n",
       "  <thead>\n",
       "    <tr style=\"text-align: right;\">\n",
       "      <th></th>\n",
       "      <th>image</th>\n",
       "      <th>source</th>\n",
       "      <th>category</th>\n",
       "      <th>id</th>\n",
       "    </tr>\n",
       "  </thead>\n",
       "  <tbody>\n",
       "    <tr>\n",
       "      <th>count</th>\n",
       "      <td>191961</td>\n",
       "      <td>191961</td>\n",
       "      <td>191961</td>\n",
       "      <td>191961</td>\n",
       "    </tr>\n",
       "    <tr>\n",
       "      <th>unique</th>\n",
       "      <td>191961</td>\n",
       "      <td>2</td>\n",
       "      <td>162</td>\n",
       "      <td>162</td>\n",
       "    </tr>\n",
       "    <tr>\n",
       "      <th>top</th>\n",
       "      <td>010441.jpg</td>\n",
       "      <td>shop</td>\n",
       "      <td>short sleeve dress</td>\n",
       "      <td>10</td>\n",
       "    </tr>\n",
       "    <tr>\n",
       "      <th>freq</th>\n",
       "      <td>1</td>\n",
       "      <td>132157</td>\n",
       "      <td>15588</td>\n",
       "      <td>15588</td>\n",
       "    </tr>\n",
       "  </tbody>\n",
       "</table>\n",
       "</div>"
      ],
      "text/plain": [
       "             image  source            category      id\n",
       "count       191961  191961              191961  191961\n",
       "unique      191961       2                 162     162\n",
       "top     010441.jpg    shop  short sleeve dress      10\n",
       "freq             1  132157               15588   15588"
      ]
     },
     "execution_count": 15,
     "metadata": {},
     "output_type": "execute_result"
    }
   ],
   "source": [
    "train.describe()"
   ]
  },
  {
   "cell_type": "code",
   "execution_count": 18,
   "metadata": {},
   "outputs": [
    {
     "data": {
      "text/plain": [
       "<matplotlib.axes._subplots.AxesSubplot at 0x217bf312630>"
      ]
     },
     "execution_count": 18,
     "metadata": {},
     "output_type": "execute_result"
    },
    {
     "data": {
      "image/png": "[encoded data removed]",
      "text/plain": [
       "<Figure size 432x288 with 1 Axes>"
      ]
     },
     "metadata": {
      "needs_background": "light"
     },
     "output_type": "display_data"
    }
   ],
   "source": [
    "df5000 = train[train['category'].map(train['category'].value_counts()) > 5000]\n",
    "df5000.category.value_counts().plot(kind=\"bar\")"
   ]
  },
  {
   "cell_type": "code",
   "execution_count": 19,
   "metadata": {},
   "outputs": [
    {
     "data": {
      "text/plain": [
       "short sleeve dress            15588\n",
       "vest dress                    14922\n",
       "short sleeve top, shorts      14064\n",
       "short sleeve top, trousers    13500\n",
       "short sleeve top, skirt       12020\n",
       "short sleeve top              11280\n",
       "long sleeve top, trousers      8438\n",
       "long sleeve top                7237\n",
       "trousers, long sleeve top      6761\n",
       "trousers                       6729\n",
       "trousers, short sleeve top     6522\n",
       "long sleeve dress              6429\n",
       "shorts, short sleeve top       5537\n",
       "long sleeve top, skirt         5225\n",
       "vest, skirt                    3979\n",
       "Name: category, dtype: int64"
      ]
     },
     "execution_count": 19,
     "metadata": {},
     "output_type": "execute_result"
    }
   ],
   "source": [
    "train.category.value_counts()[:15]"
   ]
  },
  {
   "cell_type": "code",
   "execution_count": 20,
   "metadata": {},
   "outputs": [
    {
     "name": "stdout",
     "output_type": "stream",
     "text": [
      "(191961, 4) (134252, 4)\n"
     ]
    }
   ],
   "source": [
    "print(train.shape, df5000.shape)"
   ]
  },
  {
   "cell_type": "code",
   "execution_count": 29,
   "metadata": {},
   "outputs": [
    {
     "name": "stdout",
     "output_type": "stream",
     "text": [
      "['short sleeve top, trousers' 'long sleeve dress' 'long sleeve top'\n",
      " 'long sleeve top, trousers' 'long sleeve top, skirt'\n",
      " 'short sleeve top, skirt' 'shorts, short sleeve top'\n",
      " 'short sleeve top, shorts' 'short sleeve top'\n",
      " 'trousers, short sleeve top' 'trousers, long sleeve top' 'vest dress'\n",
      " 'trousers' 'short sleeve dress']\n",
      "shop    92129\n",
      "user    42123\n",
      "Name: source, dtype: int64\n"
     ]
    }
   ],
   "source": [
    "labels = df5000.category.unique()\n",
    "print(labels)\n",
    "print(df5000.source.value_counts())"
   ]
  },
  {
   "cell_type": "code",
   "execution_count": 46,
   "metadata": {},
   "outputs": [
    {
     "name": "stdout",
     "output_type": "stream",
     "text": [
      "short sleeve top, trousers    3535\n",
      "short sleeve dress            2850\n",
      "vest dress                    2760\n",
      "short sleeve top, shorts      1899\n",
      "short sleeve top              1817\n",
      "short sleeve top, skirt       1790\n",
      "long sleeve top, skirt        1580\n",
      "long sleeve top, trousers     1353\n",
      "long sleeve dress             1201\n",
      "trousers, short sleeve top    1093\n",
      "long sleeve top               1091\n",
      "shorts, short sleeve top       667\n",
      "trousers, long sleeve top      661\n",
      "trousers                       649\n",
      "Name: category, dtype: int64\n"
     ]
    }
   ],
   "source": [
    "test = pd.read_csv('val.csv')\n",
    "test = test[test['category'].isin(labels)]\n",
    "print(test.category.value_counts())"
   ]
  },
  {
   "cell_type": "code",
   "execution_count": 45,
   "metadata": {},
   "outputs": [
    {
     "name": "stdout",
     "output_type": "stream",
     "text": [
      "long sleeve top, trousers     5000\n",
      "shorts, short sleeve top      5000\n",
      "vest dress                    5000\n",
      "short sleeve top, shorts      5000\n",
      "trousers, long sleeve top     5000\n",
      "long sleeve top, skirt        5000\n",
      "long sleeve dress             5000\n",
      "short sleeve dress            5000\n",
      "long sleeve top               5000\n",
      "trousers                      5000\n",
      "short sleeve top, skirt       5000\n",
      "trousers, short sleeve top    5000\n",
      "short sleeve top, trousers    5000\n",
      "short sleeve top              5000\n",
      "Name: category, dtype: int64 shop    48921\n",
      "user    21079\n",
      "Name: source, dtype: int64\n",
      "        image source                    category    id\n",
      "0  000001.jpg   user  short sleeve top, trousers  1, 8\n",
      "2  000003.jpg   user           long sleeve dress    11\n",
      "3  000004.jpg   user           long sleeve dress    11\n",
      "4  000005.jpg   user           long sleeve dress    11\n",
      "5  000006.jpg   user           long sleeve dress    11\n"
     ]
    }
   ],
   "source": [
    "train = df5000.groupby('category').head(5000)\n",
    "print(train.category.value_counts(), train.source.value_counts())\n",
    "print(train.head())\n",
    "    "
   ]
  },
  {
   "cell_type": "code",
   "execution_count": 53,
   "metadata": {},
   "outputs": [],
   "source": [
    "train_path = os.path.join('dataset', 'train', 'image')\n",
    "test_path = os.path.join('dataset', 'validation', 'image')\n",
    "new_train_path = os.path.join('dataset', 'new_train')\n",
    "new_test_path = os.path.join('dataset', 'new_test')\n",
    "train_images = list(df5000.image)\n",
    "test_images = list(test.image)\n",
    "if not os.path.exists(new_train_path) and not os.path.exists(new_test_path):\n",
    "    os.mkdir(new_train_path)\n",
    "    os.mkdir(new_test_path)"
   ]
  },
  {
   "cell_type": "code",
   "execution_count": null,
   "metadata": {},
   "outputs": [],
   "source": [
    "for image in train_images:\n",
    "    shutil.move(os.path.join(train_path, image), os.path.join(new_train_path, image))"
   ]
  },
  {
   "cell_type": "code",
   "execution_count": null,
   "metadata": {},
   "outputs": [],
   "source": [
    "for image in test_images:\n",
    "    shutil.move(os.path.join(test_path, image), os.path.join(new_test_path, image))"
   ]
  }
 ],
 "metadata": {
  "kernelspec": {
   "display_name": "Python 3",
   "language": "python",
   "name": "python3"
  },
  "language_info": {
   "codemirror_mode": {
    "name": "ipython",
    "version": 3
   },
   "file_extension": ".py",
   "mimetype": "text/x-python",
   "name": "python",
   "nbconvert_exporter": "python",
   "pygments_lexer": "ipython3",
   "version": "3.6.6"
  }
 },
 "nbformat": 4,
 "nbformat_minor": 4
}
